{
 "cells": [
  {
   "cell_type": "code",
   "execution_count": 1,
   "id": "adult-launch",
   "metadata": {
    "execution": {
     "iopub.execute_input": "2021-05-05T20:10:37.869576Z",
     "iopub.status.busy": "2021-05-05T20:10:37.867802Z",
     "iopub.status.idle": "2021-05-05T20:10:37.870613Z",
     "shell.execute_reply": "2021-05-05T20:10:37.870145Z"
    }
   },
   "outputs": [],
   "source": [
    "# project: p1\n",
    "# submitter: zluo43\n",
    "# hours: 48\n",
    "\n",
    "\n"
   ]
  },
  {
   "cell_type": "code",
   "execution_count": 2,
   "id": "bottom-aquarium",
   "metadata": {
    "execution": {
     "iopub.execute_input": "2021-05-05T20:10:37.879919Z",
     "iopub.status.busy": "2021-05-05T20:10:37.879369Z",
     "iopub.status.idle": "2021-05-05T20:10:38.769883Z",
     "shell.execute_reply": "2021-05-05T20:10:38.770774Z"
    }
   },
   "outputs": [],
   "source": [
    "from subprocess import check_output\n",
    "import matplotlib.pyplot as plt\n",
    "import numpy as np\n",
    "import math\n",
    "import os\n",
    "import json\n",
    "import subprocess"
   ]
  },
  {
   "cell_type": "code",
   "execution_count": 1,
   "id": "awful-reset",
   "metadata": {
    "execution": {
     "iopub.execute_input": "2021-05-05T20:10:38.774620Z",
     "iopub.status.busy": "2021-05-05T20:10:38.773462Z",
     "iopub.status.idle": "2021-05-05T20:10:38.871360Z",
     "shell.execute_reply": "2021-05-05T20:10:38.869468Z"
    }
   },
   "outputs": [
    {
     "ename": "FileNotFoundError",
     "evalue": "[Errno 2] No such file or directory: 'repo': 'repo'",
     "output_type": "error",
     "traceback": [
      "\u001b[0;31m---------------------------------------------------------------------------\u001b[0m",
      "\u001b[0;31mFileNotFoundError\u001b[0m                         Traceback (most recent call last)",
      "\u001b[0;32m<ipython-input-1-efb57637968d>\u001b[0m in \u001b[0;36m<module>\u001b[0;34m\u001b[0m\n\u001b[1;32m      5\u001b[0m \u001b[0;31m# check_output([\"git\", \"log\"], cwd = \"repo\")\u001b[0m\u001b[0;34m\u001b[0m\u001b[0;34m\u001b[0m\u001b[0;34m\u001b[0m\u001b[0m\n\u001b[1;32m      6\u001b[0m \u001b[0;34m\u001b[0m\u001b[0m\n\u001b[0;32m----> 7\u001b[0;31m \u001b[0mcommit_list\u001b[0m\u001b[0;34m=\u001b[0m\u001b[0mstr\u001b[0m\u001b[0;34m(\u001b[0m\u001b[0mcheck_output\u001b[0m\u001b[0;34m(\u001b[0m\u001b[0;34m[\u001b[0m\u001b[0;34m\"git\"\u001b[0m\u001b[0;34m,\u001b[0m \u001b[0;34m\"log\"\u001b[0m\u001b[0;34m]\u001b[0m\u001b[0;34m,\u001b[0m \u001b[0mcwd\u001b[0m \u001b[0;34m=\u001b[0m \u001b[0;34m\"repo\"\u001b[0m\u001b[0;34m)\u001b[0m\u001b[0;34m)\u001b[0m\u001b[0;34m.\u001b[0m\u001b[0msplit\u001b[0m\u001b[0;34m(\u001b[0m\u001b[0;34m)\u001b[0m\u001b[0;34m\u001b[0m\u001b[0;34m\u001b[0m\u001b[0m\n\u001b[0m\u001b[1;32m      8\u001b[0m \u001b[0;34m\u001b[0m\u001b[0m\n\u001b[1;32m      9\u001b[0m \u001b[0mcount\u001b[0m\u001b[0;34m=\u001b[0m\u001b[0;36m0\u001b[0m\u001b[0;34m\u001b[0m\u001b[0;34m\u001b[0m\u001b[0m\n",
      "\u001b[0;32m/usr/lib/python3.6/subprocess.py\u001b[0m in \u001b[0;36mcheck_output\u001b[0;34m(timeout, *popenargs, **kwargs)\u001b[0m\n\u001b[1;32m    354\u001b[0m \u001b[0;34m\u001b[0m\u001b[0m\n\u001b[1;32m    355\u001b[0m     return run(*popenargs, stdout=PIPE, timeout=timeout, check=True,\n\u001b[0;32m--> 356\u001b[0;31m                **kwargs).stdout\n\u001b[0m\u001b[1;32m    357\u001b[0m \u001b[0;34m\u001b[0m\u001b[0m\n\u001b[1;32m    358\u001b[0m \u001b[0;34m\u001b[0m\u001b[0m\n",
      "\u001b[0;32m/usr/lib/python3.6/subprocess.py\u001b[0m in \u001b[0;36mrun\u001b[0;34m(input, timeout, check, *popenargs, **kwargs)\u001b[0m\n\u001b[1;32m    421\u001b[0m         \u001b[0mkwargs\u001b[0m\u001b[0;34m[\u001b[0m\u001b[0;34m'stdin'\u001b[0m\u001b[0;34m]\u001b[0m \u001b[0;34m=\u001b[0m \u001b[0mPIPE\u001b[0m\u001b[0;34m\u001b[0m\u001b[0;34m\u001b[0m\u001b[0m\n\u001b[1;32m    422\u001b[0m \u001b[0;34m\u001b[0m\u001b[0m\n\u001b[0;32m--> 423\u001b[0;31m     \u001b[0;32mwith\u001b[0m \u001b[0mPopen\u001b[0m\u001b[0;34m(\u001b[0m\u001b[0;34m*\u001b[0m\u001b[0mpopenargs\u001b[0m\u001b[0;34m,\u001b[0m \u001b[0;34m**\u001b[0m\u001b[0mkwargs\u001b[0m\u001b[0;34m)\u001b[0m \u001b[0;32mas\u001b[0m \u001b[0mprocess\u001b[0m\u001b[0;34m:\u001b[0m\u001b[0;34m\u001b[0m\u001b[0;34m\u001b[0m\u001b[0m\n\u001b[0m\u001b[1;32m    424\u001b[0m         \u001b[0;32mtry\u001b[0m\u001b[0;34m:\u001b[0m\u001b[0;34m\u001b[0m\u001b[0;34m\u001b[0m\u001b[0m\n\u001b[1;32m    425\u001b[0m             \u001b[0mstdout\u001b[0m\u001b[0;34m,\u001b[0m \u001b[0mstderr\u001b[0m \u001b[0;34m=\u001b[0m \u001b[0mprocess\u001b[0m\u001b[0;34m.\u001b[0m\u001b[0mcommunicate\u001b[0m\u001b[0;34m(\u001b[0m\u001b[0minput\u001b[0m\u001b[0;34m,\u001b[0m \u001b[0mtimeout\u001b[0m\u001b[0;34m=\u001b[0m\u001b[0mtimeout\u001b[0m\u001b[0;34m)\u001b[0m\u001b[0;34m\u001b[0m\u001b[0;34m\u001b[0m\u001b[0m\n",
      "\u001b[0;32m/usr/lib/python3.6/subprocess.py\u001b[0m in \u001b[0;36m__init__\u001b[0;34m(self, args, bufsize, executable, stdin, stdout, stderr, preexec_fn, close_fds, shell, cwd, env, universal_newlines, startupinfo, creationflags, restore_signals, start_new_session, pass_fds, encoding, errors)\u001b[0m\n\u001b[1;32m    727\u001b[0m                                 \u001b[0mc2pread\u001b[0m\u001b[0;34m,\u001b[0m \u001b[0mc2pwrite\u001b[0m\u001b[0;34m,\u001b[0m\u001b[0;34m\u001b[0m\u001b[0;34m\u001b[0m\u001b[0m\n\u001b[1;32m    728\u001b[0m                                 \u001b[0merrread\u001b[0m\u001b[0;34m,\u001b[0m \u001b[0merrwrite\u001b[0m\u001b[0;34m,\u001b[0m\u001b[0;34m\u001b[0m\u001b[0;34m\u001b[0m\u001b[0m\n\u001b[0;32m--> 729\u001b[0;31m                                 restore_signals, start_new_session)\n\u001b[0m\u001b[1;32m    730\u001b[0m         \u001b[0;32mexcept\u001b[0m\u001b[0;34m:\u001b[0m\u001b[0;34m\u001b[0m\u001b[0;34m\u001b[0m\u001b[0m\n\u001b[1;32m    731\u001b[0m             \u001b[0;31m# Cleanup if the child failed starting.\u001b[0m\u001b[0;34m\u001b[0m\u001b[0;34m\u001b[0m\u001b[0;34m\u001b[0m\u001b[0m\n",
      "\u001b[0;32m/usr/lib/python3.6/subprocess.py\u001b[0m in \u001b[0;36m_execute_child\u001b[0;34m(self, args, executable, preexec_fn, close_fds, pass_fds, cwd, env, startupinfo, creationflags, shell, p2cread, p2cwrite, c2pread, c2pwrite, errread, errwrite, restore_signals, start_new_session)\u001b[0m\n\u001b[1;32m   1362\u001b[0m                         \u001b[0;32mif\u001b[0m \u001b[0merrno_num\u001b[0m \u001b[0;34m==\u001b[0m \u001b[0merrno\u001b[0m\u001b[0;34m.\u001b[0m\u001b[0mENOENT\u001b[0m\u001b[0;34m:\u001b[0m\u001b[0;34m\u001b[0m\u001b[0;34m\u001b[0m\u001b[0m\n\u001b[1;32m   1363\u001b[0m                             \u001b[0merr_msg\u001b[0m \u001b[0;34m+=\u001b[0m \u001b[0;34m': '\u001b[0m \u001b[0;34m+\u001b[0m \u001b[0mrepr\u001b[0m\u001b[0;34m(\u001b[0m\u001b[0merr_filename\u001b[0m\u001b[0;34m)\u001b[0m\u001b[0;34m\u001b[0m\u001b[0;34m\u001b[0m\u001b[0m\n\u001b[0;32m-> 1364\u001b[0;31m                     \u001b[0;32mraise\u001b[0m \u001b[0mchild_exception_type\u001b[0m\u001b[0;34m(\u001b[0m\u001b[0merrno_num\u001b[0m\u001b[0;34m,\u001b[0m \u001b[0merr_msg\u001b[0m\u001b[0;34m,\u001b[0m \u001b[0merr_filename\u001b[0m\u001b[0;34m)\u001b[0m\u001b[0;34m\u001b[0m\u001b[0;34m\u001b[0m\u001b[0m\n\u001b[0m\u001b[1;32m   1365\u001b[0m                 \u001b[0;32mraise\u001b[0m \u001b[0mchild_exception_type\u001b[0m\u001b[0;34m(\u001b[0m\u001b[0merr_msg\u001b[0m\u001b[0;34m)\u001b[0m\u001b[0;34m\u001b[0m\u001b[0;34m\u001b[0m\u001b[0m\n\u001b[1;32m   1366\u001b[0m \u001b[0;34m\u001b[0m\u001b[0m\n",
      "\u001b[0;31mFileNotFoundError\u001b[0m: [Errno 2] No such file or directory: 'repo': 'repo'"
     ]
    }
   ],
   "source": [
    "#Q1: How many commits are in the repo?\n",
    "\n",
    "# check_output([\"git\", \"checkout\", \"main\"], cwd = \"repo\")\n",
    "\n",
    "# check_output([\"git\", \"log\"], cwd = \"repo\")\n",
    "\n",
    "commit_list=str(check_output([\"git\", \"log\"], cwd = \"repo\")).split()\n",
    "\n",
    "count=0\n",
    "for i in commit_list:\n",
    "    if 'commit' in i:\n",
    "        count=count+1\n",
    "print (count) \n",
    "count \n",
    "\n",
    "\n",
    "\n",
    "\n",
    "\n",
    "\n",
    "\n",
    "\n",
    "\n",
    "\n",
    "\n",
    "\n",
    "\n",
    "\n",
    "\n",
    "\n",
    "\n",
    "\n",
    "\n",
    "\n",
    "\n",
    "\n",
    "    \n",
    "\n",
    "\n",
    "\n",
    "#Q13 [PLOT]: How does the number of total words and unique percent affect the performance of versions 2 and 3?\n",
    "\n",
    "def performance(uniq_percent,total_words,commit=None):\n",
    "    df = pd.DataFrame(index=total_words, columns=uniq_percent)\n",
    "    df.index.name = \"total words\"\n",
    "    df.columns.name = \"percent uniq\"\n",
    "\n",
    "    for up in uniq_percent:\n",
    "        for tw in total_words:\n",
    "            uniq_words = int(tw * (up / 100))\n",
    "            value=time_run_sec(uniq_words,tw, word_size=6, commit=commit)\n",
    "            df.loc[tw, up] = value\n",
    "    return df\n",
    "\n",
    "performance([10,5,1],[10000,5000,2000,1000]) "
   ]
  },
  {
   "cell_type": "code",
   "execution_count": null,
   "id": "anticipated-cannon",
   "metadata": {},
   "outputs": [],
   "source": [
    "#Q2: How many commits were there by each author?\n",
    "name=[]\n",
    "commit_list\n",
    "\n",
    "for i in commit_list:\n",
    "    if '@example.com' in i:\n",
    "        name.append(i)\n",
    "\n",
    "for i in range(len(name)):\n",
    "    for j in range(len(name[i])):\n",
    "        if (name[i])[j]=='@':\n",
    "            name[i]=(name[i])[1:j]\n",
    "            break\n",
    "d={}\n",
    "for k in name:\n",
    "    if k not in d:\n",
    "        d[k]=1\n",
    "    elif k in d:\n",
    "        d[k]=d[k]+1\n",
    "print (d)\n",
    "d"
   ]
  },
  {
   "cell_type": "code",
   "execution_count": null,
   "id": "developing-documentary",
   "metadata": {},
   "outputs": [],
   "source": [
    "#Q3[PLOT]: How many commits did each developer contribute?\n",
    "plt.figure(figsize=(3, 3))\n",
    "plt.bar(d.keys(), d.values(),width=0.3,color='g')\n",
    "plt.xlabel(\"Name\")\n",
    "plt.ylabel(\"contribution\")"
   ]
  },
  {
   "cell_type": "code",
   "execution_count": null,
   "id": "rocky-miracle",
   "metadata": {},
   "outputs": [],
   "source": [
    "#Q4: How has the size of the wc.py code grown over time?\n",
    "\n",
    "def rid_last(x):\n",
    "    if x[len(x)-1]=='':\n",
    "        x.pop(len(x)-1)\n",
    "    return len(x)\n",
    "#rid_last(clean)\n",
    "count=[]\n",
    "for i in version:\n",
    "    check_output([\"git\", \"checkout\", i], cwd=\"repo\")\n",
    "    m=check_output([\"cat\", \"wc.py\"], cwd=\"repo\", encoding='utf-8').split('\\n')\n",
    "    rid_last(m)\n",
    "    #print (rid_last(m))\n",
    "    count.append(rid_last(m))\n",
    "  \n",
    "count.reverse()\n",
    "count\n",
    "\n"
   ]
  },
  {
   "cell_type": "code",
   "execution_count": null,
   "id": "adjusted-lambda",
   "metadata": {},
   "outputs": [],
   "source": [
    "#Q5 [PLOT]: How has the size of the wc.py code grown over time?\n",
    "\n",
    "plt.plot(range(8),count,color='red')\n",
    "plt.xlabel(\"commit\")\n",
    "plt.ylabel(\"lines\")"
   ]
  },
  {
   "cell_type": "code",
   "execution_count": null,
   "id": "loved-state",
   "metadata": {},
   "outputs": [],
   "source": [
    "#Q6: What does run_wc(test1) return?\n",
    "def run_wc(body, commit=None):\n",
    "    with open(os.path.join(\"repo\", \"test.txt\"), \"w\") as file:\n",
    "        file.write(body)\n",
    "\n",
    "    if commit==None: \n",
    "        commit = \"main\"\n",
    "    \n",
    "    check_output([\"git\", \"checkout\", commit],cwd=\"repo\",universal_newlines=True)\n",
    "#     print(check_output([\"git\", \"log\", \"-1\",\"--oneline\"], cwd=\"repo\",universal_newlines=True))\n",
    "    try:\n",
    "        run=check_output([\"python3\",\"wc.py\",\"test.txt\",\"ALL\"],cwd=\"repo\",universal_newlines=True)\n",
    "        return (json.loads(run))\n",
    "    except subprocess.CalledProcessError as e:\n",
    "        return None \n",
    "run_wc(test1)\n"
   ]
  },
  {
   "cell_type": "code",
   "execution_count": null,
   "id": "orange-pendant",
   "metadata": {},
   "outputs": [],
   "source": [
    "#Q7: What does run_wc(test3) return?\n",
    "#print (run_wc(test2))\n",
    "\n",
    "run_wc(test3)"
   ]
  },
  {
   "cell_type": "code",
   "execution_count": null,
   "id": "thermal-chair",
   "metadata": {},
   "outputs": [],
   "source": [
    "#Q8: What does test_table(test1, {'X': 1, 'Y': 1, 'Z': 1}) return?\n",
    "import pandas as pd \n",
    "def test_table(body, expected):\n",
    "    empty={}\n",
    "    author=['Ada','Linus','Linus','Ada','Steve','Ada','Steve','Steve']  #cheat sicne order is always the same for thie problem\n",
    "    pass_=[]\n",
    "    for i in version[::-1]: \n",
    "        if run_wc(body,i)==expected:\n",
    "            pass_.append(True)\n",
    "        else:\n",
    "            pass_.append(False)\n",
    "    empty['commit']=version[::-1]\n",
    "    empty['Author']=author\n",
    "    empty['Pass']=pass_\n",
    "    df=pd.DataFrame(empty)\n",
    "    return df\n",
    "test_table(test1, {'X': 1, 'Y': 1, 'Z': 1"
   ]
  },
  {
   "cell_type": "code",
   "execution_count": null,
   "id": "straight-electron",
   "metadata": {},
   "outputs": [],
   "source": [
    "#Q9: What does test_table(test2, {'A': 2, 'B': 1, 'C': 1}) return?\n",
    "test_table(test2, {'A': 1, 'B': 1, 'C': 1})\n",
    "\n",
    "\n"
   ]
  },
  {
   "cell_type": "code",
   "execution_count": null,
   "id": "guided-compression",
   "metadata": {},
   "outputs": [],
   "source": [
    "#Q10: What does test_table(test3, {'A': 2, 'B': 1, 'C': 1}) return?\n",
    "test_table(test3, {'A': 2, 'B': 1, 'C': 1})"
   ]
  },
  {
   "cell_type": "code",
   "execution_count": null,
   "id": "received-discipline",
   "metadata": {},
   "outputs": [],
   "source": [
    "#Q11: How long does each version take for 5000-word inputs consisting of 100 unique words?\n",
    "import numpy as np \n",
    "from numpy import random\n",
    "import string \n",
    "import random\n",
    "import time\n",
    "\n",
    "def time_run_sec(uniq_words, total_words, word_size=6, commit=None):\n",
    "    empty=[]\n",
    "    for i in range(uniq_words):\n",
    "        ran_gen=''.join(random.choices(string.ascii_letters, k=word_size))\n",
    "        #adopted from the internet \n",
    "        empty.append(ran_gen)\n",
    "    ran_sample=random.choices(empty, k=total_words)\n",
    "    input_str = \" \".join(ran_sample)\n",
    "    t0=time.time()\n",
    "    #print (input_str)\n",
    "    run_wc(input_str,commit)\n",
    "    t1=time.time()\n",
    "    return t1-t0\n",
    "versions = {\n",
    "    \"v0-baseline\": \"6f5ca9327e986315ffcacddce5d9d6195c0913b7\",\n",
    "    \"v1-open-once\": \"f37e610ce055a3d894baac2d9449e6eb77c72320\",\n",
    "    \"v2-pass-per-uniq\": \"c10b5a6cb4f06c96f6f221df2d5ec33af767d5c5\",\n",
    "    \"v3-single-pass\": \"4e4128313b8d5b5e5d04f2e8e585f64f7c5831a4\"}\n",
    "    \n",
    "    \n",
    "    \n",
    "commit_name=list(versions.values())\n",
    "ms=[]\n",
    "for i in commit_name:\n",
    "    ms.append(time_run_sec(100,5000,word_size=6,commit=i)*1000)\n",
    "\n",
    "#log_scale=np.log(ms)\n",
    "    \n",
    "#log_scale\n",
    "\n",
    "#ms\n",
    "\n",
    "ms = pd.Series(ms)\n",
    "ax=ms.plot.barh(x='Exu time', y='Version',logx=True)\n",
    "\n",
    "mj=[]\n",
    "for i in commit_name:\n",
    "    mj.append(time_run_sec(1,5000,word_size=6,commit=i)*1000)\n"
   ]
  },
  {
   "cell_type": "code",
   "execution_count": null,
   "id": "manual-outline",
   "metadata": {},
   "outputs": [],
   "source": [
    "#Q12: How long does each version take for 5000-word inputs consisting of 1 unique word?\n",
    "mj = pd.Series(mj)\n",
    "ax=mj.plot.barh(x='Exu time', y='Version',logx=True)"
   ]
  },
  {
   "cell_type": "code",
   "execution_count": null,
   "id": "answering-chorus",
   "metadata": {},
   "outputs": [],
   "source": []
  },
  {
   "cell_type": "code",
   "execution_count": null,
   "id": "dated-skirt",
   "metadata": {},
   "outputs": [],
   "source": []
  }
 ],
 "metadata": {
  "kernelspec": {
   "display_name": "Python 3",
   "language": "python",
   "name": "python3"
  },
  "language_info": {
   "codemirror_mode": {
    "name": "ipython",
    "version": 3
   },
   "file_extension": ".py",
   "mimetype": "text/x-python",
   "name": "python",
   "nbconvert_exporter": "python",
   "pygments_lexer": "ipython3",
   "version": "3.6.9"
  }
 },
 "nbformat": 4,
 "nbformat_minor": 5
}
